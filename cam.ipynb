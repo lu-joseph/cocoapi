{
 "cells": [
  {
   "cell_type": "code",
   "execution_count": null,
   "id": "2d7782b1",
   "metadata": {},
   "outputs": [],
   "source": [
    "%matplotlib inline\n",
    "import numpy as np\n",
    "import matplotlib.pyplot as plt\n",
    "import torch\n",
    "from torch.utils.data import Dataset\n",
    "import torch.nn as nn\n",
    "import torchvision.transforms as transforms\n",
    "from pycocotools.coco import COCO\n",
    "from skimage import io, transform\n",
    "import pylab\n",
    "pylab.rcParams['figure.figsize'] = (8.0, 10.0)\n",
    "\n",
    "import cam_net\n",
    "import cam_utils"
   ]
  },
  {
   "cell_type": "code",
   "execution_count": null,
   "id": "62fd42c9",
   "metadata": {},
   "outputs": [],
   "source": [
    "dataDir='data'\n",
    "dataType='val2017'\n",
    "annFile='{}/annotations/instances_{}.json'.format(dataDir,dataType)\n",
    "coco=COCO(annFile)"
   ]
  },
  {
   "cell_type": "code",
   "execution_count": null,
   "id": "de3d9d06",
   "metadata": {},
   "outputs": [],
   "source": [
    "yes_files,no_files = cam_utils.split_data(coco)\n",
    "\n",
    "class ImageListDataset(Dataset):\n",
    "    def __init__(self, data_list, transform=None):\n",
    "        self.data_list = data_list\n",
    "        self.transform = transform or transforms.ToTensor()\n",
    "\n",
    "    def __len__(self):\n",
    "        return len(self.data_list)\n",
    "\n",
    "    def __getitem__(self, idx):\n",
    "        path, label = self.data_list[idx]\n",
    "        image = io.imread(f'{dataDir}/images/{file_name}').convert(\"RGB\")\n",
    "        image = cam_utils.resize(image)\n",
    "        if self.transform:\n",
    "            image = self.transform(image)\n",
    "        return image, label\n",
    "\n",
    "file_name = yes_files[np.random.randint(0,len(yes_files))]\n",
    "im = io.imread(f'{dataDir}/images/{file_name}')\n",
    "resized = resize(im)"
   ]
  }
 ],
 "metadata": {
  "kernelspec": {
   "display_name": ".conda",
   "language": "python",
   "name": "python3"
  },
  "language_info": {
   "codemirror_mode": {
    "name": "ipython",
    "version": 3
   },
   "file_extension": ".py",
   "mimetype": "text/x-python",
   "name": "python",
   "nbconvert_exporter": "python",
   "pygments_lexer": "ipython3",
   "version": "3.10.16"
  }
 },
 "nbformat": 4,
 "nbformat_minor": 5
}
