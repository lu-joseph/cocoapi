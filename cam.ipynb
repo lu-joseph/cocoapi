{
 "cells": [
  {
   "cell_type": "code",
   "execution_count": null,
   "id": "2d7782b1",
   "metadata": {},
   "outputs": [],
   "source": [
    "%matplotlib inline\n",
    "import numpy as np\n",
    "import matplotlib.pyplot as plt\n",
    "import torch\n",
    "import torch.nn as nn\n",
    "from pycocotools.coco import COCO\n",
    "from skimage import io,transform\n",
    "import pylab\n",
    "pylab.rcParams['figure.figsize'] = (8.0, 10.0)\n",
    "\n",
    "import cam_net\n",
    "import cam_utils"
   ]
  },
  {
   "cell_type": "code",
   "execution_count": null,
   "id": "62fd42c9",
   "metadata": {},
   "outputs": [],
   "source": [
    "dataDir='data'\n",
    "dataType='val2017'\n",
    "annFile='{}/annotations/instances_{}.json'.format(dataDir,dataType)\n",
    "coco=COCO(annFile)"
   ]
  },
  {
   "cell_type": "code",
   "execution_count": null,
   "id": "de3d9d06",
   "metadata": {},
   "outputs": [],
   "source": [
    "yes_files,no_files = cam_utils.split_data(coco)"
   ]
  }
 ],
 "metadata": {
  "language_info": {
   "name": "python"
  }
 },
 "nbformat": 4,
 "nbformat_minor": 5
}
